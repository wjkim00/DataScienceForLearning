{
  "nbformat": 4,
  "nbformat_minor": 0,
  "metadata": {
    "colab": {
      "name": "Untitled0.ipynb",
      "provenance": []
    },
    "kernelspec": {
      "name": "python3",
      "display_name": "Python 3"
    },
    "language_info": {
      "name": "python"
    }
  },
  "cells": [
    {
      "cell_type": "markdown",
      "source": [
        "Affine Function"
      ],
      "metadata": {
        "id": "h280Xwr_AGyG"
      }
    },
    {
      "cell_type": "code",
      "source": [
        "import tensorflow as tf\n",
        "\n",
        "from tensorflow.keras.layers import Dense\n",
        "\n",
        "x = tf.constant([[10.], [20.]])\n",
        "\n",
        "dense = Dense(units=1, activation='linear')\n",
        "\n",
        "y_tf = dense(x) # forward propagation + params initialization\n",
        "\n",
        "W, B = dense.get_weights()\n",
        "\n",
        "y_man = tf.linalg.matmul(x, W) + B\n",
        "\n",
        "print('===========')\n",
        "print(\"x: {} ->\\n {} \\n\".format(x.shape, x.numpy()))\n",
        "print(\"W: {} ->\\n {} \\n\".format(W.shape, W))\n",
        "print(\"B: {} ->\\n {} \\n\".format(B.shape, B))\n",
        "\n",
        "print('===========')\n",
        "print(\"y(Tensorflow): {}\\n{}\\n\".format(y_tf.shape, y_tf.numpy()))\n",
        "print(\"y(Matmul): {}\\n{}\\n\".format(y_man.shape, y_man.numpy()))"
      ],
      "metadata": {
        "colab": {
          "base_uri": "https://localhost:8080/"
        },
        "id": "qsTIlP79fB18",
        "outputId": "d64cfad9-3972-4bc7-f240-80bf91f6f410"
      },
      "execution_count": 11,
      "outputs": [
        {
          "output_type": "stream",
          "name": "stdout",
          "text": [
            "===========\n",
            "x: (2, 1) ->\n",
            " [[10.]\n",
            " [20.]] \n",
            "\n",
            "W: (1, 1) ->\n",
            " [[1.107634]] \n",
            "\n",
            "B: (1,) ->\n",
            " [0.] \n",
            "\n",
            "===========\n",
            "y(Tensorflow): (2, 1)\n",
            "[[11.07634]\n",
            " [22.15268]]\n",
            "\n",
            "y(Matmul): (2, 1)\n",
            "[[11.07634]\n",
            " [22.15268]]\n",
            "\n"
          ]
        }
      ]
    },
    {
      "cell_type": "markdown",
      "source": [
        "Parameters Initialization"
      ],
      "metadata": {
        "id": "LEnssxLihxMv"
      }
    },
    {
      "cell_type": "code",
      "source": [
        "import tensorflow as tf\n",
        "\n",
        "from tensorflow.keras.layers import Dense\n",
        "from tensorflow.keras.initializers import Constant\n",
        "\n",
        "w, b = tf.constant(10.), tf.constant(20.)\n",
        "w_init, b_init = Constant(w), Constant(b)\n",
        "\n",
        "dense = Dense(units=1,\n",
        "              activation='linear',\n",
        "              kernel_initializer=w_init,\n",
        "              bias_initializer=b_init)\n",
        "\n",
        "y_tf = dense(x)\n",
        "\n",
        "W, B = dense.get_weights()\n",
        "\n",
        "print('===========')\n",
        "print(\"x: {} ->\\n {} \\n\".format(x.shape, x.numpy()))\n",
        "print(\"W: {} ->\\n {} \\n\".format(W.shape, W))\n",
        "print(\"B: {} ->\\n {} \\n\".format(B.shape, B))"
      ],
      "metadata": {
        "colab": {
          "base_uri": "https://localhost:8080/"
        },
        "id": "sE0T9isCh1aj",
        "outputId": "93f29d48-a85f-47ae-f198-716dead7405d"
      },
      "execution_count": 13,
      "outputs": [
        {
          "output_type": "stream",
          "name": "stdout",
          "text": [
            "===========\n",
            "x: (2, 1) ->\n",
            " [[10.]\n",
            " [20.]] \n",
            "\n",
            "W: (1, 1) ->\n",
            " [[10.]] \n",
            "\n",
            "B: (1,) ->\n",
            " [20.] \n",
            "\n"
          ]
        }
      ]
    },
    {
      "cell_type": "markdown",
      "source": [
        "Affine Functions with n Features"
      ],
      "metadata": {
        "id": "neRAMYExirEx"
      }
    },
    {
      "cell_type": "code",
      "source": [
        "import tensorflow as tf\n",
        "\n",
        "from tensorflow.keras.layers import Dense\n",
        "\n",
        "x = tf.random.uniform(shape=(1, 10), minval=0, maxval=10)\n",
        "\n",
        "dense = Dense(units=1)\n",
        "\n",
        "y_tf = dense(x)\n",
        "\n",
        "W, B = dense.get_weights()\n",
        "\n",
        "y_man = tf.linalg.matmul(x, W) + B\n",
        "\n",
        "print('===========')\n",
        "print(\"x: {} ->\\n {} \\n\".format(x.shape, x.numpy()))\n",
        "print(\"W: {} ->\\n {} \\n\".format(W.shape, W))\n",
        "print(\"B: {} ->\\n {} \\n\".format(B.shape, B))\n",
        "\n",
        "print('===========')\n",
        "print(\"y(Tensorflow): {}\\n{}\\n\".format(y_tf.shape, y_tf.numpy()))\n",
        "print(\"y(Matmul): {}\\n{}\\n\".format(y_man.shape, y_man.numpy()))"
      ],
      "metadata": {
        "colab": {
          "base_uri": "https://localhost:8080/"
        },
        "id": "MFtJRz-yiubA",
        "outputId": "2b8b12a8-91ad-462e-fe19-d0537e702a7f"
      },
      "execution_count": 15,
      "outputs": [
        {
          "output_type": "stream",
          "name": "stdout",
          "text": [
            "===========\n",
            "x: (1, 10) ->\n",
            " [[6.7232    5.557699  0.6475985 5.770185  5.145085  9.475393  3.670758\n",
            "  2.4802148 9.612785  9.465593 ]] \n",
            "\n",
            "W: (10, 1) ->\n",
            " [[-0.12121451]\n",
            " [ 0.5207775 ]\n",
            " [-0.6980227 ]\n",
            " [-0.0099799 ]\n",
            " [ 0.07008135]\n",
            " [-0.05502248]\n",
            " [ 0.71154934]\n",
            " [ 0.33065838]\n",
            " [-0.30202666]\n",
            " [ 0.05364513]] \n",
            "\n",
            "B: (1,) ->\n",
            " [0.] \n",
            "\n",
            "===========\n",
            "y(Tensorflow): (1, 1)\n",
            "[[2.4454608]]\n",
            "\n",
            "y(Matmul): (1, 1)\n",
            "[[2.4454608]]\n",
            "\n"
          ]
        }
      ]
    }
  ]
}