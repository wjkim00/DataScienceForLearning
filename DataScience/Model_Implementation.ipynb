{
  "nbformat": 4,
  "nbformat_minor": 0,
  "metadata": {
    "colab": {
      "name": "Untitled2.ipynb",
      "provenance": [],
      "collapsed_sections": []
    },
    "kernelspec": {
      "name": "python3",
      "display_name": "Python 3"
    },
    "language_info": {
      "name": "python"
    }
  },
  "cells": [
    {
      "cell_type": "markdown",
      "source": [
        "### Model Implementation"
      ],
      "metadata": {
        "id": "9No9XTvxzh3R"
      }
    },
    {
      "cell_type": "markdown",
      "source": [
        "Model Implementation with Sequential Method"
      ],
      "metadata": {
        "id": "Y5fZ0xuozk0o"
      }
    },
    {
      "cell_type": "code",
      "source": [
        "from tensorflow.keras.layers import Dense\n",
        "\n",
        "from tensorflow.keras.models import Sequential\n",
        "\n",
        "model = Sequential()\n",
        "model.add(Dense(units=10, activation='sigmoid'))\n",
        "model.add(Dense(units=20, activation='sigmoid'))"
      ],
      "metadata": {
        "id": "aI_goqpGznxa"
      },
      "execution_count": 3,
      "outputs": []
    },
    {
      "cell_type": "markdown",
      "source": [
        "Model Implementation with Model-subclassing"
      ],
      "metadata": {
        "id": "_3_ZCUrAz68O"
      }
    },
    {
      "cell_type": "code",
      "source": [
        "from tensorflow.keras.layers import Dense\n",
        "\n",
        "from tensorflow.keras.models import Model\n",
        "\n",
        "class TestModel(Model):\n",
        "  def __init__(self):\n",
        "    super(TestModel, self).__init__()\n",
        "\n",
        "    self.dense1 = Dense(units=10, activation='sigmoid')\n",
        "    self.dense2 = Dense(units=20, activation='sigmoid')\n",
        "\n",
        "model = TestModel()\n",
        "print(model.dense1)\n",
        "print(model.dense2)"
      ],
      "metadata": {
        "colab": {
          "base_uri": "https://localhost:8080/"
        },
        "id": "o_n2OHeB0H9X",
        "outputId": "d41addaa-eacb-458e-e88e-e601f7adb1cf"
      },
      "execution_count": 4,
      "outputs": [
        {
          "output_type": "stream",
          "name": "stdout",
          "text": [
            "<keras.layers.core.dense.Dense object at 0x7f2168dde810>\n",
            "<keras.layers.core.dense.Dense object at 0x7f216e0cfe90>\n"
          ]
        }
      ]
    },
    {
      "cell_type": "markdown",
      "source": [
        "Forward Propagation of Models"
      ],
      "metadata": {
        "id": "8SZFR5W0z9f1"
      }
    },
    {
      "cell_type": "code",
      "source": [
        "import tensorflow as tf\n",
        "\n",
        "from tensorflow.keras.layers import Dense\n",
        "\n",
        "from tensorflow.keras.models import Sequential\n",
        "from tensorflow.keras.models import Model\n",
        "\n",
        "X = tf.random.normal(shape=(4, 10))\n",
        "\n",
        "# Sequential\n",
        "model = Sequential()\n",
        "model.add(Dense(units=10, activation='sigmoid'))\n",
        "model.add(Dense(units=20, activation='sigmoid'))\n",
        "\n",
        "Y = model(X)\n",
        "print(Y.numpy())\n",
        "model.summary()\n",
        "# Model-subclassing\n",
        "class TestModel(Model):\n",
        "  def __init__(self):\n",
        "    super(TestModel, self).__init__()\n",
        "\n",
        "    self.dense1 = Dense(units=10, activation='sigmoid')\n",
        "    self.dense2 = Dense(units=20, activation='sigmoid')\n",
        "\n",
        "  def call(self, x):\n",
        "    x = self.dense1(x)\n",
        "    x = self.dense2(x)\n",
        "    return x\n",
        "\n",
        "model = TestModel()\n",
        "Y = model(X)\n",
        "\n",
        "print(Y.numpy())"
      ],
      "metadata": {
        "colab": {
          "base_uri": "https://localhost:8080/"
        },
        "id": "nEL9TCfp0INi",
        "outputId": "02f6af2c-5348-4f96-9a72-a83056166a8a"
      },
      "execution_count": 11,
      "outputs": [
        {
          "output_type": "stream",
          "name": "stdout",
          "text": [
            "[[0.3414976  0.60966766 0.6168965  0.54397523 0.42707598 0.5589352\n",
            "  0.39878032 0.5636787  0.5339141  0.46546718 0.41985166 0.5758026\n",
            "  0.6229747  0.48778415 0.36138988 0.6816833  0.5503624  0.37005848\n",
            "  0.27792025 0.59124297]\n",
            " [0.2616049  0.6631987  0.5352408  0.4886337  0.32633793 0.58868134\n",
            "  0.33994415 0.5220549  0.5188646  0.5266431  0.56154424 0.53940195\n",
            "  0.6161908  0.53910273 0.30523992 0.6928371  0.5051282  0.2999926\n",
            "  0.28417212 0.59260213]\n",
            " [0.23468769 0.5092506  0.66129184 0.5727704  0.5015117  0.5705273\n",
            "  0.56105113 0.52750844 0.4212211  0.4962021  0.39711943 0.44628185\n",
            "  0.56705755 0.64191884 0.34246236 0.7137173  0.60738015 0.37482822\n",
            "  0.22782633 0.5025605 ]\n",
            " [0.33794767 0.5815945  0.6592827  0.5380601  0.44101277 0.57118\n",
            "  0.4619527  0.55958045 0.48756328 0.5042825  0.36657244 0.5704442\n",
            "  0.60370934 0.5412153  0.3633371  0.71738267 0.61775714 0.38862765\n",
            "  0.23428023 0.5365333 ]]\n",
            "Model: \"sequential_9\"\n",
            "_________________________________________________________________\n",
            " Layer (type)                Output Shape              Param #   \n",
            "=================================================================\n",
            " dense_32 (Dense)            (4, 10)                   110       \n",
            "                                                                 \n",
            " dense_33 (Dense)            (4, 20)                   220       \n",
            "                                                                 \n",
            "=================================================================\n",
            "Total params: 330\n",
            "Trainable params: 330\n",
            "Non-trainable params: 0\n",
            "_________________________________________________________________\n",
            "[[0.50870806 0.63218415 0.3975982  0.53300226 0.55873317 0.61556315\n",
            "  0.52945423 0.6382483  0.6512645  0.48176277 0.5669314  0.45423108\n",
            "  0.5869502  0.5514015  0.43461704 0.47425804 0.54199725 0.5766313\n",
            "  0.405592   0.54793406]\n",
            " [0.4982019  0.67887187 0.4622684  0.5982766  0.5422425  0.5994162\n",
            "  0.55968386 0.6988909  0.63954467 0.5796079  0.6290068  0.39210096\n",
            "  0.5608088  0.5842732  0.47577125 0.5025153  0.51742536 0.55271345\n",
            "  0.41504344 0.59071016]\n",
            " [0.36649016 0.72414035 0.45846704 0.6214956  0.6794208  0.636759\n",
            "  0.5333704  0.70022666 0.6988656  0.51278687 0.58497214 0.36982852\n",
            "  0.59592116 0.5039393  0.38406125 0.61498207 0.4410816  0.64692503\n",
            "  0.55874956 0.56926143]\n",
            " [0.47755456 0.6504193  0.4221848  0.6051329  0.5466966  0.6686017\n",
            "  0.55218625 0.67563224 0.6973038  0.54787475 0.62039053 0.40967995\n",
            "  0.53935003 0.61654747 0.45908973 0.47801295 0.53422016 0.5749322\n",
            "  0.38593104 0.59103036]]\n"
          ]
        }
      ]
    },
    {
      "cell_type": "markdown",
      "source": [
        "Layers in Models"
      ],
      "metadata": {
        "id": "j92qiflI17uj"
      }
    },
    {
      "cell_type": "code",
      "source": [
        "import tensorflow as tf\n",
        "\n",
        "from tensorflow.keras.layers import Dense\n",
        "\n",
        "from tensorflow.keras.models import Model\n",
        "\n",
        "\n",
        "X = tf.random.normal(shape=(4, 10))\n",
        "\n",
        "model = Sequential()\n",
        "model.add(Dense(units=10, activation='sigmoid'))\n",
        "model.add(Dense(units=20, activation='sigmoid'))\n",
        "\n",
        "Y = model(X)\n",
        "\n",
        "print(type(model.layers))\n",
        "print(model.layers)\n",
        "\n",
        "dense1 = model.layers[0]\n",
        "for tmp in dir(dense1):\n",
        "  #print(tmp)\n",
        "  pass\n",
        "\n",
        "for layer in model.layers:\n",
        "  w, b = layer.get_weights()\n",
        "  print(w.shape, b.shape)"
      ],
      "metadata": {
        "colab": {
          "base_uri": "https://localhost:8080/"
        },
        "id": "zkuKdQMi2uFG",
        "outputId": "a5f431fa-3cb8-4645-a976-c5fab2c14e38"
      },
      "execution_count": 15,
      "outputs": [
        {
          "output_type": "stream",
          "name": "stdout",
          "text": [
            "<class 'list'>\n",
            "[<keras.layers.core.dense.Dense object at 0x7f21649a94d0>, <keras.layers.core.dense.Dense object at 0x7f2168e92490>]\n",
            "(10, 10) (10,)\n",
            "(10, 20) (20,)\n"
          ]
        }
      ]
    },
    {
      "cell_type": "markdown",
      "source": [
        "Trainable Varibales in Models"
      ],
      "metadata": {
        "id": "yYw5jnj83bfp"
      }
    },
    {
      "cell_type": "code",
      "source": [
        "import tensorflow as tf\n",
        "\n",
        "from tensorflow.keras.layers import Dense\n",
        "\n",
        "from tensorflow.keras.models import Model\n",
        "\n",
        "\n",
        "X = tf.random.normal(shape=(4, 10))\n",
        "\n",
        "model = Sequential()\n",
        "model.add(Dense(units=10, activation='sigmoid'))\n",
        "model.add(Dense(units=20, activation='sigmoid'))\n",
        "\n",
        "Y = model(X)\n",
        "\n",
        "\n",
        "print(type(model.trainable_variables))\n",
        "print(len(model.trainable_variables))\n",
        "print(\"\")\n",
        "for train_var in model.trainable_variables:\n",
        "  print(train_var.shape)"
      ],
      "metadata": {
        "colab": {
          "base_uri": "https://localhost:8080/"
        },
        "id": "UfT0ofkC3eks",
        "outputId": "10416e63-e04f-4e4d-edf2-26e3a744fa76"
      },
      "execution_count": 17,
      "outputs": [
        {
          "output_type": "stream",
          "name": "stdout",
          "text": [
            "<class 'list'>\n",
            "4\n",
            "\n",
            "(10, 10)\n",
            "(10,)\n",
            "(10, 20)\n",
            "(20,)\n"
          ]
        }
      ]
    }
  ]
}