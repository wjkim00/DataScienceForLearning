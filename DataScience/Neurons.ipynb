{
  "nbformat": 4,
  "nbformat_minor": 0,
  "metadata": {
    "colab": {
      "name": "Untitled0.ipynb",
      "provenance": [],
      "collapsed_sections": []
    },
    "kernelspec": {
      "name": "python3",
      "display_name": "Python 3"
    },
    "language_info": {
      "name": "python"
    }
  },
  "cells": [
    {
      "cell_type": "markdown",
      "source": [
        "Activation Layers"
      ],
      "metadata": {
        "id": "h280Xwr_AGyG"
      }
    },
    {
      "cell_type": "code",
      "source": [
        "import tensorflow as tf\n",
        "\n",
        "from tensorflow.math import exp, maximum\n",
        "from tensorflow.keras.layers import Activation\n",
        "\n",
        "x = tf.random.normal(shape=(1, 5))\n",
        "\n",
        "sigmoid = Activation('sigmoid')\n",
        "tanh = Activation('tanh')\n",
        "relu = Activation('relu')\n",
        "\n",
        "# Use tensorflow\n",
        "y_sigmoid_tf = sigmoid(x)\n",
        "y_tanh_tf = tanh(x)\n",
        "y_relu_tf = relu(x)\n",
        "\n",
        "# imp. \n",
        "y_sigmoid_man = 1 / (1 + exp(-x))\n",
        "y_tanh_man = (exp(x) - exp(-x)) / (exp(x) + exp(-x))\n",
        "y_relu_man = maximum(x, 0)\n",
        "\n",
        "\n",
        "\n",
        "print(\"x: {}\\n{}\\n\".format(x.shape, x.numpy()))\n",
        "print(\"Sigmoid(Tensorflow): {}\\n{}\".format(y_sigmoid_tf.shape, y_sigmoid_tf.numpy()))\n",
        "print(\"Sigmoid(Manual): {}\\n{}\\n\".format(y_sigmoid_man.shape, y_sigmoid_man.numpy()))\n",
        "\n",
        "print(\"Tanh(Tensorflow): {}\\n{}\".format(y_tanh_tf.shape, y_tanh_tf.numpy()))\n",
        "print(\"Tanh(Manual): {}\\n{}\\n\".format(y_tanh_man.shape, y_tanh_man.numpy()))\n",
        "\n",
        "print(\"Relu(Tensorflow): {}\\n{}\".format(y_relu_tf.shape, y_relu_tf.numpy()))\n",
        "print(\"Relu(Manual): {}\\n{}\\n\".format(y_relu_man.shape, y_relu_man.numpy()))\n"
      ],
      "metadata": {
        "colab": {
          "base_uri": "https://localhost:8080/"
        },
        "id": "xo_iB_q9oAt0",
        "outputId": "71d60a2e-7a45-4e5e-f5f8-7012c943a484"
      },
      "execution_count": 5,
      "outputs": [
        {
          "output_type": "stream",
          "name": "stdout",
          "text": [
            "x: (1, 5)\n",
            "[[-0.94337314  1.4638649   1.3207116  -1.2580746   2.1358297 ]]\n",
            "\n",
            "Sigmoid(Tensorflow): (1, 5)\n",
            "[[0.2802195  0.81212306 0.7893001  0.22130549 0.8943372 ]]\n",
            "Sigmoid(Manual): (1, 5)\n",
            "[[0.2802195 0.8121231 0.7893001 0.2213055 0.8943372]]\n",
            "\n",
            "Tanh(Tensorflow): (1, 5)\n",
            "[[-0.7367682   0.89840066  0.86696076 -0.8505325   0.9724671 ]]\n",
            "Tanh(Manual): (1, 5)\n",
            "[[-0.7367681   0.89840066  0.86696076 -0.8505325   0.972467  ]]\n",
            "\n",
            "Relu(Tensorflow): (1, 5)\n",
            "[[0.        1.4638649 1.3207116 0.        2.1358297]]\n",
            "Relu(Manual): (1, 5)\n",
            "[[0.        1.4638649 1.3207116 0.        2.1358297]]\n",
            "\n"
          ]
        }
      ]
    },
    {
      "cell_type": "markdown",
      "source": [
        "Activation in Dense Layer"
      ],
      "metadata": {
        "id": "Gxj_F1HspYYu"
      }
    },
    {
      "cell_type": "code",
      "source": [
        "import tensorflow as tf\n",
        "\n",
        "from tensorflow.math import exp\n",
        "from tensorflow.keras.layers import Dense\n",
        "\n",
        "x = tf.random.normal(shape=(1, 5))\n",
        "\n",
        "dense_sigmoid = Dense(units=1, activation='sigmoid')\n",
        "dense_tanh = Dense(units=1, activation='tanh')\n",
        "dense_relu = Dense(units=1, activation='relu')\n",
        "\n",
        "y_sigmoid = dense_sigmoid(x)\n",
        "y_tanh = dense_tanh(x)\n",
        "y_relu = dense_relu(x)\n",
        "\n",
        "print(\"Dense with Sigmoid: {}\\n{}\".format(y_sigmoid.shape, y_sigmoid.numpy()))\n",
        "print(\"Dense with Tanh: {}\\n{}\".format(y_tanh.shape, y_tanh.numpy()))\n",
        "print(\"Dense with Relu: {}\\n{}\".format(y_relu.shape, y_relu.numpy()))\n",
        "\n",
        "# Verification\n",
        "print('\\n=============\\n')\n",
        "\n",
        "W, B = dense_sigmoid.get_weights()\n",
        "z = tf.linalg.matmul(x, W) + B\n",
        "a = 1 / (1 + exp(-z))\n",
        "print(\"Activation value(Tensorflow): {}\\n{}\".format(y_sigmoid.shape, y_sigmoid.numpy()))\n",
        "print(\"Activation value(Manual): {}\\n{}\".format(a.shape, a.numpy()))"
      ],
      "metadata": {
        "colab": {
          "base_uri": "https://localhost:8080/"
        },
        "id": "3X2cZEcAparj",
        "outputId": "8940da95-f98d-4de5-d6d2-458154be7ebe"
      },
      "execution_count": 8,
      "outputs": [
        {
          "output_type": "stream",
          "name": "stdout",
          "text": [
            "Dense with Sigmoid: (1, 1)\n",
            "[[0.3281554]]\n",
            "Dense with Tanh: (1, 1)\n",
            "[[-0.07757642]]\n",
            "Dense with Relu: (1, 1)\n",
            "[[1.077647]]\n",
            "\n",
            "=============\n",
            "\n",
            "Activation value(Tensorflow): (1, 1)\n",
            "[[0.3281554]]\n",
            "Activation value(Manual): (1, 1)\n",
            "[[0.32815537]]\n"
          ]
        }
      ]
    },
    {
      "cell_type": "markdown",
      "source": [
        "Artificial Neurons"
      ],
      "metadata": {
        "id": "yDSoVRwPqnMH"
      }
    },
    {
      "cell_type": "code",
      "source": [
        "import tensorflow as tf\n",
        "from tensorflow.keras.layers import Dense\n",
        "from tensorflow.math import exp, maximum\n",
        "\n",
        "# activation = 'sigmoid'\n",
        "# activation = 'tanh'\n",
        "activation = 'relu'\n",
        "\n",
        "x = tf.random.uniform(shape=(1, 10))\n",
        "\n",
        "dense = Dense(units=1, activation=activation)\n",
        "\n",
        "y_tf = dense(x)\n",
        "W, B = dense.get_weights()\n",
        "\n",
        "# Manual\n",
        "y_man = tf.linalg.matmul(x, W) + B\n",
        "if activation == 'sigmoid':\n",
        "    y_man = 1 / (1 + exp(-y_man))\n",
        "elif activation == 'tanh':\n",
        "    y_man = (exp(y_man) - exp(-y_man)) / (exp(y_man) + exp(-y_man))\n",
        "elif activation == 'relu':\n",
        "    y_man = maximum(y_man, 0)\n",
        "\n",
        "print(\"Activation: \", activation)\n",
        "print(\"y_tf: {}\\n{}\\n\".format(y_tf.shape, y_tf.numpy()))\n",
        "print(\"y_man: {}\\n{}\\n\".format(y_man.shape, y_man.numpy()))\n"
      ],
      "metadata": {
        "colab": {
          "base_uri": "https://localhost:8080/"
        },
        "id": "UBwlT2BEqpNr",
        "outputId": "7a7f57ab-14e8-41cd-b10b-9360cb6bbaa7"
      },
      "execution_count": 11,
      "outputs": [
        {
          "output_type": "stream",
          "name": "stdout",
          "text": [
            "Activation:  relu\n",
            "y_tf: (1, 1)\n",
            "[[0.16721363]]\n",
            "\n",
            "y_man: (1, 1)\n",
            "[[0.16721363]]\n",
            "\n"
          ]
        }
      ]
    },
    {
      "cell_type": "markdown",
      "source": [
        "## MiniBaches"
      ],
      "metadata": {
        "id": "8dSKC6VVrgnl"
      }
    },
    {
      "cell_type": "markdown",
      "source": [
        "Shape of Dense Layers"
      ],
      "metadata": {
        "id": "i6hyn09VrjEl"
      }
    },
    {
      "cell_type": "code",
      "source": [
        "import tensorflow as tf\n",
        "\n",
        "from tensorflow.keras.layers import Dense\n",
        "\n",
        "N, n_feature = 8, 10\n",
        "x = tf.random.normal(shape=(N, n_feature))\n",
        "\n",
        "dense = Dense(units=1, activation='relu')\n",
        "y = dense(x)\n",
        "\n",
        "W, B = dense.get_weights()\n",
        "\n",
        "print(\"Shape of x: \", x.shape)\n",
        "print(\"Shape of W: \", W.shape)\n",
        "print(\"Shape of B: \", B.shape)"
      ],
      "metadata": {
        "colab": {
          "base_uri": "https://localhost:8080/"
        },
        "id": "BcPi-hUyr2AU",
        "outputId": "d77a589c-ca71-4e5a-8dc8-6807d6c43071"
      },
      "execution_count": 13,
      "outputs": [
        {
          "output_type": "stream",
          "name": "stdout",
          "text": [
            "Shape of x:  (8, 10)\n",
            "Shape of W:  (10, 1)\n",
            "Shape of B:  (1,)\n"
          ]
        }
      ]
    },
    {
      "cell_type": "markdown",
      "source": [
        "Output Calculations"
      ],
      "metadata": {
        "id": "YwfIJ0vesRNH"
      }
    },
    {
      "cell_type": "code",
      "source": [
        "import tensorflow as tf\n",
        "\n",
        "from tensorflow.keras.layers import Dense\n",
        "N, n_feature = 8, 10\n",
        "x = tf.random.normal(shape=(N, n_feature))\n",
        "\n",
        "dense = Dense(units=1, activation='sigmoid')\n",
        "y_tf = dense(x)\n",
        "\n",
        "W, B = dense.get_weights()\n",
        "\n",
        "y_man = tf.linalg.matmul(x, W) + B\n",
        "y_man = 1 / ( 1 + tf.math.exp(-y_man))\n",
        "\n",
        "print(\"Output(Tensorflow) : \\n\", y_tf.numpy())\n",
        "print(\"Output(Manual) : \\n\", y_man.numpy())"
      ],
      "metadata": {
        "colab": {
          "base_uri": "https://localhost:8080/"
        },
        "id": "onVoF7-lsUZi",
        "outputId": "528f35d5-e1a6-417e-e308-c81bdb0d57e6"
      },
      "execution_count": 16,
      "outputs": [
        {
          "output_type": "stream",
          "name": "stdout",
          "text": [
            "Output(Tensorflow) : \n",
            " [[0.44454572]\n",
            " [0.81287575]\n",
            " [0.54919004]\n",
            " [0.1762056 ]\n",
            " [0.4520619 ]\n",
            " [0.81538916]\n",
            " [0.7858276 ]\n",
            " [0.15387362]]\n",
            "Output(Manual) : \n",
            " [[0.44454572]\n",
            " [0.8128757 ]\n",
            " [0.54919004]\n",
            " [0.17620559]\n",
            " [0.4520619 ]\n",
            " [0.81538916]\n",
            " [0.7858276 ]\n",
            " [0.15387362]]\n"
          ]
        }
      ]
    }
  ]
}