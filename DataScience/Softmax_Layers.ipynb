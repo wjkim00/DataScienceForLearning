{
  "nbformat": 4,
  "nbformat_minor": 0,
  "metadata": {
    "colab": {
      "name": "Softmax_Layers.ipynb",
      "provenance": []
    },
    "kernelspec": {
      "name": "python3",
      "display_name": "Python 3"
    },
    "language_info": {
      "name": "python"
    }
  },
  "cells": [
    {
      "cell_type": "markdown",
      "source": [
        "### Softmax Layers"
      ],
      "metadata": {
        "id": "zJudcAPNcJRG"
      }
    },
    {
      "cell_type": "markdown",
      "source": [
        "IO of Softmax"
      ],
      "metadata": {
        "id": "uHLSeZ5AcROm"
      }
    },
    {
      "cell_type": "code",
      "source": [
        "import tensorflow as tf\n",
        "\n",
        "from tensorflow.keras.layers import Activation\n",
        "\n",
        "logit = tf.random.uniform(shape=(2, 5), minval=-10, maxval=10)\n",
        "\n",
        "softmax_value = Activation('softmax')(logit)\n",
        "softmax_sum = tf.reduce_sum(softmax_value, axis=1)\n",
        "\n",
        "print(\"Logits: \\n\", logit.numpy())\n",
        "print(\"Probabilities: \\n\", softmax_value.numpy())\n",
        "print(\"Sum of softmax values: \\n\", softmax_sum)"
      ],
      "metadata": {
        "colab": {
          "base_uri": "https://localhost:8080/"
        },
        "id": "0ir7i6wwcWT0",
        "outputId": "597545a2-d068-488f-b504-62cba65dd24f"
      },
      "execution_count": 27,
      "outputs": [
        {
          "output_type": "stream",
          "name": "stdout",
          "text": [
            "Logits: \n",
            " [[-0.34876347  5.144372   -8.719044    1.7445545  -8.431608  ]\n",
            " [-3.7643647   5.5764627  -6.126721   -3.2601929   1.0130262 ]]\n",
            "Probabilities: \n",
            " [[3.9662030e-03 9.6385872e-01 9.1877342e-07 3.2172989e-02 1.2247293e-06]\n",
            " [8.6840373e-05 9.8944515e-01 8.1801918e-06 1.4377420e-04 1.0316120e-02]]\n",
            "Sum of softmax values: \n",
            " tf.Tensor([1. 1.], shape=(2,), dtype=float32)\n"
          ]
        }
      ]
    },
    {
      "cell_type": "markdown",
      "source": [
        "Softmax in Dense Layers"
      ],
      "metadata": {
        "id": "MsB3SgQEcS_0"
      }
    },
    {
      "cell_type": "code",
      "source": [
        "import tensorflow as tf\n",
        "\n",
        "from tensorflow.keras.layers import Dense\n",
        "\n",
        "logit = tf.random.uniform(shape=(8, 5), minval=-10, maxval=10)\n",
        "dense = Dense(units=8, activation='softmax')\n",
        "\n",
        "Y = dense(logit)\n",
        "print(tf.reduce_sum(Y, axis=1))"
      ],
      "metadata": {
        "colab": {
          "base_uri": "https://localhost:8080/"
        },
        "id": "8zDeCLO8dSA9",
        "outputId": "5530b22d-9511-436b-c546-320931544c09"
      },
      "execution_count": 28,
      "outputs": [
        {
          "output_type": "stream",
          "name": "stdout",
          "text": [
            "tf.Tensor(\n",
            "[1.         0.99999994 1.0000001  1.0000001  1.         1.0000001\n",
            " 1.         1.        ], shape=(8,), dtype=float32)\n"
          ]
        }
      ]
    },
    {
      "cell_type": "markdown",
      "source": [
        "### Multi-class Classifiers"
      ],
      "metadata": {
        "id": "HRZSk_dIdcZi"
      }
    },
    {
      "cell_type": "markdown",
      "source": [
        "Multi-class Classifiers"
      ],
      "metadata": {
        "id": "4B3ugapldeXi"
      }
    },
    {
      "cell_type": "code",
      "source": [
        "import tensorflow as tf\n",
        "\n",
        "from tensorflow.keras.models import Model\n",
        "from tensorflow.keras.layers import Dense\n",
        "\n",
        "class TestModel(Model):\n",
        "  def __init__(self):\n",
        "    super(TestModel, self).__init__()\n",
        "\n",
        "    self.dense1 = Dense(units=8, activation='relu')\n",
        "    self.dense2 = Dense(units=5, activation='relu')\n",
        "    self.dense3 = Dense(units=3, activation='softmax')\n",
        "\n",
        "  def call(self, X):\n",
        "    print(\"X: {}\\n{}\\n\".format(X.shape, X.numpy()))\n",
        "\n",
        "    X = self.dense1(X)\n",
        "    print(\"A1: {}\\n{}\\n\".format(X.shape, X.numpy()))\n",
        "\n",
        "    X = self.dense2(X)\n",
        "    print(\"A2: {}\\n{}\\n\".format(X.shape, X.numpy()))\n",
        "\n",
        "    X = self.dense3(X)\n",
        "    print(\"Y: {}\\n{}\\n\".format(X.shape, X.numpy()))\n",
        "    print(\"Sum of vectors: {}\\n\".format(tf.reduce_sum(X, axis=1)))\n",
        "\n",
        "model = TestModel()\n",
        "\n",
        "X = tf.random.uniform(shape=(8, 5), minval=-10, maxval=10)\n",
        "Y = model(X)"
      ],
      "metadata": {
        "colab": {
          "base_uri": "https://localhost:8080/"
        },
        "id": "ptPHw7mDdfgJ",
        "outputId": "9f403662-c020-4475-8bb0-976bdfa6cc68"
      },
      "execution_count": 30,
      "outputs": [
        {
          "output_type": "stream",
          "name": "stdout",
          "text": [
            "X: (8, 5)\n",
            "[[-8.201981    1.671524   -0.46222687  9.716465    2.087407  ]\n",
            " [-7.3094225  -4.9207926  -6.582999    1.5219164  -8.129318  ]\n",
            " [ 2.723546   -5.916815    4.400051   -2.5845933   7.6256714 ]\n",
            " [ 5.6206083   3.6030054  -3.527441    7.3707275   7.1644783 ]\n",
            " [-7.524917    4.624426   -5.7665896  -1.5585213  -9.394571  ]\n",
            " [ 8.461935    0.31860352 -1.89291     3.6043854   9.5667305 ]\n",
            " [-5.969956   -2.9234695  -2.3770976   8.4966545   8.088036  ]\n",
            " [ 0.08798122  7.6674957   3.1443644   3.1177378   8.962845  ]]\n",
            "\n",
            "A1: (8, 8)\n",
            "[[ 8.151453    0.10897056  1.5550566   0.          6.6882143   0.\n",
            "   0.          0.        ]\n",
            " [ 8.527092    0.          0.0501688   0.          5.9213457   0.\n",
            "   1.6189634   0.        ]\n",
            " [ 0.          2.8658216   0.          0.          0.          0.01692989\n",
            "   0.          4.598309  ]\n",
            " [ 0.77932113  0.24279076  9.9204855   6.356824    0.          4.1581426\n",
            "   0.79321325  3.335121  ]\n",
            " [12.304554    0.          2.0245116   0.02350993  2.8432343   0.\n",
            "   5.443017    0.        ]\n",
            " [ 0.          1.2243901   6.291273    5.6830688   0.          5.4904943\n",
            "   0.62872344  5.761946  ]\n",
            " [ 0.98648405  0.30258572  0.          0.          5.3250422   0.\n",
            "   0.          0.        ]\n",
            " [ 0.          2.5130067   1.3320773   5.409859    0.          2.6858106\n",
            "   0.          5.8917847 ]]\n",
            "\n",
            "A2: (8, 5)\n",
            "[[0.53690004 6.728756   1.5779185  4.467627   1.821407  ]\n",
            " [0.8751382  5.570957   1.2306868  3.111025   2.4807281 ]\n",
            " [3.1832063  2.2841394  0.67755944 1.8140013  0.        ]\n",
            " [0.         1.308568   6.343697   3.8596356  0.        ]\n",
            " [2.2878785  5.161775   5.2966146  2.1070874  1.750468  ]\n",
            " [0.         0.41855407 5.605987   2.5243707  0.        ]\n",
            " [0.         3.3144302  0.         3.4038434  2.257402  ]\n",
            " [2.0018692  0.10729331 1.4817127  0.33254826 0.        ]]\n",
            "\n",
            "Y: (8, 3)\n",
            "[[9.9517304e-01 2.1665599e-05 4.8052338e-03]\n",
            " [9.9758673e-01 4.8573351e-05 2.3647263e-03]\n",
            " [6.8174458e-01 3.8597148e-03 3.1439576e-01]\n",
            " [8.8411093e-01 7.9894759e-02 3.5994310e-02]\n",
            " [9.9954271e-01 1.0939405e-05 4.4638474e-04]\n",
            " [7.5214428e-01 2.0255975e-01 4.5295887e-02]\n",
            " [9.7028446e-01 5.6452337e-03 2.4070257e-02]\n",
            " [6.2126452e-01 1.0446394e-01 2.7427155e-01]]\n",
            "\n",
            "Sum of vectors: [0.9999999  1.         1.         1.         1.0000001  0.99999994\n",
            " 0.99999994 1.        ]\n",
            "\n"
          ]
        }
      ]
    }
  ]
}